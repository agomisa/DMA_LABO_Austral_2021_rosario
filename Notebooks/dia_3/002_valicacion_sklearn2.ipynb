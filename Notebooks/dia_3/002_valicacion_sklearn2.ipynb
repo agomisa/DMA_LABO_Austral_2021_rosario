{
 "cells": [
  {
   "cell_type": "markdown",
   "metadata": {
    "id": "igIPHKUfD3O9"
   },
   "source": [
    "# Introducción a Validación de Modelos\n",
    "\n",
    "Los algoritmos de aprendizaje automático se entrenan mediante la optimizaicón de una función sobre los datos de entrenamiento. Por ende, mal se puede validar la hipótesis aprendida sobre los mismo datos que su usaron para formularla. Si lo hiciéramos, lejos de obtener una métrica adecuada de lo bien que generalizará nuestro modelo, sólo tendríamos una evaluación de qué tan bien se ajusta a los datos de entrenamiento. Cuando ese ajuste es muy fuerte y la generalización es muy mala, se dice que incurrimos en un ajuste exesivo (overfitting).\n",
    "\n",
    "Exísten una serie de métodos que nos permiten estimar qué tan bien generalizará un determinado modelo. En primer término, la simple división entre entrenamiento y validación puede dar la primera aproximación. Generalizando esta idea, se llega a la técnica de validación cruzada (cross-validation) que es la división en k subconjuntos disyuntos de entrenamiento y validación. Llevado al extremo, tenemos los métodos de dejar-p-afuera (leave p out), que cuando p=1, implica el entrenamiento de n modelos para precedir en cada uno de los casos, habiendo entrenado en todos los demás. \n"
   ]
  },
  {
   "cell_type": "markdown",
   "metadata": {
    "id": "wqiJDk54D3O-"
   },
   "source": [
    "## Separación simple en entrenamiento y validación\n",
    "\n",
    "En el tutorial anterior, vimos un ejemplo de tomar un p% de casos al azar para validación, entrenando con el restante (1-p)%. Ese fue un caso de simple separación aleatoria entre entrenamiento y validación. \n",
    "\n",
    "Scikit Learn es una librería que no sólo tiene una amplia variedad de algoritmos de aprendizaje automático, sino que provee una gran cantidad de funciones auxiliares para simplificar el tratamiento de los datos, entre ellas, las de validación. \n"
   ]
  },
  {
   "cell_type": "code",
   "execution_count": 1,
   "metadata": {
    "id": "L5jfgPoND3O_"
   },
   "outputs": [
    {
     "name": "stderr",
     "output_type": "stream",
     "text": [
      "/Users/adambrosio/opt/anaconda3/lib/python3.7/site-packages/seaborn/apionly.py:9: UserWarning: As seaborn no longer sets a default style on import, the seaborn.apionly module is deprecated. It will be removed in a future version.\n",
      "  warnings.warn(msg, UserWarning)\n"
     ]
    }
   ],
   "source": [
    "import numpy as np\n",
    "import pandas as pd\n",
    "import seaborn.apionly as sns\n",
    "import matplotlib.pyplot as plt\n",
    "\n",
    "from sklearn import model_selection\n",
    "sns.set()"
   ]
  },
  {
   "cell_type": "code",
   "execution_count": 14,
   "metadata": {
    "id": "8OuVfF-DD3PH"
   },
   "outputs": [],
   "source": [
    "#setup para el notebook\n",
    "%matplotlib inline\n",
    "pd.options.display.max_rows = 10\n",
    "pd.options.display.float_format = '{:,.2f}'.format\n",
    "plt.rcParams['figure.figsize'] = (10, 8)"
   ]
  },
  {
   "cell_type": "code",
   "execution_count": 3,
   "metadata": {
    "colab": {
     "base_uri": "https://localhost:8080/",
     "height": 225
    },
    "id": "zpUXy6J-D3PO",
    "outputId": "ec07eacc-6a51-4e3f-b569-899bd985204c"
   },
   "outputs": [
    {
     "data": {
      "text/html": [
       "<div>\n",
       "<style scoped>\n",
       "    .dataframe tbody tr th:only-of-type {\n",
       "        vertical-align: middle;\n",
       "    }\n",
       "\n",
       "    .dataframe tbody tr th {\n",
       "        vertical-align: top;\n",
       "    }\n",
       "\n",
       "    .dataframe thead th {\n",
       "        text-align: right;\n",
       "    }\n",
       "</style>\n",
       "<table border=\"1\" class=\"dataframe\">\n",
       "  <thead>\n",
       "    <tr style=\"text-align: right;\">\n",
       "      <th></th>\n",
       "      <th>Survived</th>\n",
       "      <th>Pclass</th>\n",
       "      <th>Sex</th>\n",
       "      <th>Age</th>\n",
       "      <th>SibSp</th>\n",
       "      <th>Parch</th>\n",
       "      <th>Ticket</th>\n",
       "      <th>Fare</th>\n",
       "      <th>Cabin</th>\n",
       "      <th>NumFam</th>\n",
       "      <th>C</th>\n",
       "      <th>Q</th>\n",
       "      <th>S</th>\n",
       "      <th>Age_nul</th>\n",
       "    </tr>\n",
       "    <tr>\n",
       "      <th>PassengerId</th>\n",
       "      <th></th>\n",
       "      <th></th>\n",
       "      <th></th>\n",
       "      <th></th>\n",
       "      <th></th>\n",
       "      <th></th>\n",
       "      <th></th>\n",
       "      <th></th>\n",
       "      <th></th>\n",
       "      <th></th>\n",
       "      <th></th>\n",
       "      <th></th>\n",
       "      <th></th>\n",
       "      <th></th>\n",
       "    </tr>\n",
       "  </thead>\n",
       "  <tbody>\n",
       "    <tr>\n",
       "      <th>1</th>\n",
       "      <td>0</td>\n",
       "      <td>3</td>\n",
       "      <td>0</td>\n",
       "      <td>22.00</td>\n",
       "      <td>1</td>\n",
       "      <td>0</td>\n",
       "      <td>0</td>\n",
       "      <td>7.25</td>\n",
       "      <td>0</td>\n",
       "      <td>1</td>\n",
       "      <td>0</td>\n",
       "      <td>0</td>\n",
       "      <td>1</td>\n",
       "      <td>0</td>\n",
       "    </tr>\n",
       "    <tr>\n",
       "      <th>2</th>\n",
       "      <td>1</td>\n",
       "      <td>1</td>\n",
       "      <td>1</td>\n",
       "      <td>38.00</td>\n",
       "      <td>1</td>\n",
       "      <td>0</td>\n",
       "      <td>1</td>\n",
       "      <td>71.28</td>\n",
       "      <td>1</td>\n",
       "      <td>1</td>\n",
       "      <td>1</td>\n",
       "      <td>0</td>\n",
       "      <td>0</td>\n",
       "      <td>0</td>\n",
       "    </tr>\n",
       "    <tr>\n",
       "      <th>3</th>\n",
       "      <td>1</td>\n",
       "      <td>3</td>\n",
       "      <td>1</td>\n",
       "      <td>26.00</td>\n",
       "      <td>0</td>\n",
       "      <td>0</td>\n",
       "      <td>2</td>\n",
       "      <td>7.92</td>\n",
       "      <td>0</td>\n",
       "      <td>0</td>\n",
       "      <td>0</td>\n",
       "      <td>0</td>\n",
       "      <td>1</td>\n",
       "      <td>0</td>\n",
       "    </tr>\n",
       "    <tr>\n",
       "      <th>4</th>\n",
       "      <td>1</td>\n",
       "      <td>1</td>\n",
       "      <td>1</td>\n",
       "      <td>35.00</td>\n",
       "      <td>1</td>\n",
       "      <td>0</td>\n",
       "      <td>3</td>\n",
       "      <td>53.10</td>\n",
       "      <td>2</td>\n",
       "      <td>1</td>\n",
       "      <td>0</td>\n",
       "      <td>0</td>\n",
       "      <td>1</td>\n",
       "      <td>0</td>\n",
       "    </tr>\n",
       "    <tr>\n",
       "      <th>5</th>\n",
       "      <td>0</td>\n",
       "      <td>3</td>\n",
       "      <td>0</td>\n",
       "      <td>35.00</td>\n",
       "      <td>0</td>\n",
       "      <td>0</td>\n",
       "      <td>4</td>\n",
       "      <td>8.05</td>\n",
       "      <td>0</td>\n",
       "      <td>0</td>\n",
       "      <td>0</td>\n",
       "      <td>0</td>\n",
       "      <td>1</td>\n",
       "      <td>0</td>\n",
       "    </tr>\n",
       "  </tbody>\n",
       "</table>\n",
       "</div>"
      ],
      "text/plain": [
       "             Survived  Pclass  Sex   Age  SibSp  Parch  Ticket  Fare  Cabin  \\\n",
       "PassengerId                                                                   \n",
       "1                   0       3    0 22.00      1      0       0  7.25      0   \n",
       "2                   1       1    1 38.00      1      0       1 71.28      1   \n",
       "3                   1       3    1 26.00      0      0       2  7.92      0   \n",
       "4                   1       1    1 35.00      1      0       3 53.10      2   \n",
       "5                   0       3    0 35.00      0      0       4  8.05      0   \n",
       "\n",
       "             NumFam  C  Q  S  Age_nul  \n",
       "PassengerId                            \n",
       "1                 1  0  0  1        0  \n",
       "2                 1  1  0  0        0  \n",
       "3                 0  0  0  1        0  \n",
       "4                 1  0  0  1        0  \n",
       "5                 0  0  0  1        0  "
      ]
     },
     "execution_count": 3,
     "metadata": {},
     "output_type": "execute_result"
    }
   ],
   "source": [
    "try:\n",
    "    data = pd.read_csv(\"../data/titanic_proc.csv\", index_col=\"PassengerId\")\n",
    "except:\n",
    "    data = pd.read_csv(\"https://raw.githubusercontent.com/Argentan/DMA_LAB2/master/data/titanic_proc.csv\", index_col=\"PassengerId\")\n",
    "data.head()"
   ]
  },
  {
   "cell_type": "markdown",
   "metadata": {
    "id": "VEPAihEgFhQU"
   },
   "source": [
    "Vemos la ayuda de la función `train_test_split`"
   ]
  },
  {
   "cell_type": "code",
   "execution_count": null,
   "metadata": {
    "id": "oHVsN4lED3Pa"
   },
   "outputs": [],
   "source": [
    "model_selection.train_test_split?"
   ]
  },
  {
   "cell_type": "code",
   "execution_count": 4,
   "metadata": {
    "colab": {
     "base_uri": "https://localhost:8080/"
    },
    "id": "WsbzwThsD3Pe",
    "outputId": "a977907d-4ece-44b5-f45b-1c521bfdcd19"
   },
   "outputs": [
    {
     "name": "stdout",
     "output_type": "stream",
     "text": [
      "X_train: (801, 13)\n",
      "X_valid: (90, 13)\n",
      "y_train: (801,)\n",
      "y_valid: (90,)\n"
     ]
    }
   ],
   "source": [
    "X_train, X_valid, y_train, y_valid = model_selection.train_test_split(data.drop(\"Survived\", axis=1), \n",
    "                                                                    data.Survived, test_size=0.1, random_state=0)\n",
    "print(f\"X_train: {X_train.shape}\")\n",
    "print(f\"X_valid: {X_valid.shape}\")\n",
    "print(f\"y_train: {y_train.shape}\")\n",
    "print(f\"y_valid: {y_valid.shape}\")"
   ]
  },
  {
   "cell_type": "code",
   "execution_count": 7,
   "metadata": {},
   "outputs": [
    {
     "data": {
      "text/plain": [
       "0.3782771535580524"
      ]
     },
     "execution_count": 7,
     "metadata": {},
     "output_type": "execute_result"
    }
   ],
   "source": [
    "y_train.mean()"
   ]
  },
  {
   "cell_type": "code",
   "execution_count": 6,
   "metadata": {},
   "outputs": [
    {
     "data": {
      "text/plain": [
       "0.43333333333333335"
      ]
     },
     "execution_count": 6,
     "metadata": {},
     "output_type": "execute_result"
    }
   ],
   "source": [
    "y_valid.mean()"
   ]
  },
  {
   "cell_type": "code",
   "execution_count": null,
   "metadata": {
    "colab": {
     "base_uri": "https://localhost:8080/"
    },
    "id": "o8J04PSGD3Ph",
    "outputId": "1af7e8de-5baa-4b0c-fdf3-979c87c1819e"
   },
   "outputs": [],
   "source": [
    "print(X_train.head())\n",
    "y_train.head()"
   ]
  },
  {
   "cell_type": "markdown",
   "metadata": {
    "id": "WSZoCXTuGB5l"
   },
   "source": [
    "## Ajuste de Hiperparámetros\n",
    "\n",
    "Vamos a comenzar ajustando los valores posibles de un parámetro `max_depth` en un modelo de `RandomForestClassifier`"
   ]
  },
  {
   "cell_type": "code",
   "execution_count": 8,
   "metadata": {
    "id": "METK3VjuD3Pr",
    "outputId": "5497e046-a249-4d62-ff9b-f01d3b2a899b"
   },
   "outputs": [
    {
     "data": {
      "text/plain": [
       "[2, 4, 6, 8, 10, 12, 14, 16, 18, 20, 22, 24, 26, 28, 30, 32, 34, 36, 38, None]"
      ]
     },
     "execution_count": 8,
     "metadata": {},
     "output_type": "execute_result"
    }
   ],
   "source": [
    "depths = list(range(2, 40, 2)) + [None]\n",
    "depths"
   ]
  },
  {
   "cell_type": "code",
   "execution_count": 9,
   "metadata": {
    "id": "drrBdHCAD3Pu"
   },
   "outputs": [],
   "source": [
    "from sklearn.ensemble import RandomForestClassifier\n",
    "from sklearn.metrics import log_loss, roc_auc_score"
   ]
  },
  {
   "cell_type": "markdown",
   "metadata": {
    "id": "gk4dquBzGWZy"
   },
   "source": [
    "Armamos un DF para guardar los resultados"
   ]
  },
  {
   "cell_type": "code",
   "execution_count": 10,
   "metadata": {
    "colab": {
     "base_uri": "https://localhost:8080/",
     "height": 402
    },
    "id": "llRfLJLJD3Px",
    "outputId": "5007f3f2-e28a-410c-b987-b6337b617bc2"
   },
   "outputs": [
    {
     "data": {
      "text/html": [
       "<div>\n",
       "<style scoped>\n",
       "    .dataframe tbody tr th:only-of-type {\n",
       "        vertical-align: middle;\n",
       "    }\n",
       "\n",
       "    .dataframe tbody tr th {\n",
       "        vertical-align: top;\n",
       "    }\n",
       "\n",
       "    .dataframe thead th {\n",
       "        text-align: right;\n",
       "    }\n",
       "</style>\n",
       "<table border=\"1\" class=\"dataframe\">\n",
       "  <thead>\n",
       "    <tr style=\"text-align: right;\">\n",
       "      <th></th>\n",
       "      <th>train</th>\n",
       "      <th>valid</th>\n",
       "    </tr>\n",
       "  </thead>\n",
       "  <tbody>\n",
       "    <tr>\n",
       "      <th>2</th>\n",
       "      <td>NaN</td>\n",
       "      <td>NaN</td>\n",
       "    </tr>\n",
       "    <tr>\n",
       "      <th>4</th>\n",
       "      <td>NaN</td>\n",
       "      <td>NaN</td>\n",
       "    </tr>\n",
       "    <tr>\n",
       "      <th>6</th>\n",
       "      <td>NaN</td>\n",
       "      <td>NaN</td>\n",
       "    </tr>\n",
       "    <tr>\n",
       "      <th>8</th>\n",
       "      <td>NaN</td>\n",
       "      <td>NaN</td>\n",
       "    </tr>\n",
       "    <tr>\n",
       "      <th>10</th>\n",
       "      <td>NaN</td>\n",
       "      <td>NaN</td>\n",
       "    </tr>\n",
       "    <tr>\n",
       "      <th>...</th>\n",
       "      <td>...</td>\n",
       "      <td>...</td>\n",
       "    </tr>\n",
       "    <tr>\n",
       "      <th>32</th>\n",
       "      <td>NaN</td>\n",
       "      <td>NaN</td>\n",
       "    </tr>\n",
       "    <tr>\n",
       "      <th>34</th>\n",
       "      <td>NaN</td>\n",
       "      <td>NaN</td>\n",
       "    </tr>\n",
       "    <tr>\n",
       "      <th>36</th>\n",
       "      <td>NaN</td>\n",
       "      <td>NaN</td>\n",
       "    </tr>\n",
       "    <tr>\n",
       "      <th>38</th>\n",
       "      <td>NaN</td>\n",
       "      <td>NaN</td>\n",
       "    </tr>\n",
       "    <tr>\n",
       "      <th>None</th>\n",
       "      <td>NaN</td>\n",
       "      <td>NaN</td>\n",
       "    </tr>\n",
       "  </tbody>\n",
       "</table>\n",
       "<p>20 rows × 2 columns</p>\n",
       "</div>"
      ],
      "text/plain": [
       "     train valid\n",
       "2      NaN   NaN\n",
       "4      NaN   NaN\n",
       "6      NaN   NaN\n",
       "8      NaN   NaN\n",
       "10     NaN   NaN\n",
       "...    ...   ...\n",
       "32     NaN   NaN\n",
       "34     NaN   NaN\n",
       "36     NaN   NaN\n",
       "38     NaN   NaN\n",
       "None   NaN   NaN\n",
       "\n",
       "[20 rows x 2 columns]"
      ]
     },
     "execution_count": 10,
     "metadata": {},
     "output_type": "execute_result"
    }
   ],
   "source": [
    "res = pd.DataFrame([], index=[str(d) for d in depths], columns=[\"train\", \"valid\"])\n",
    "res"
   ]
  },
  {
   "cell_type": "markdown",
   "metadata": {
    "id": "EV7Mb9O0GfU3"
   },
   "source": [
    "Luego entrenamos el modelo con los distintos valores del parámetro y vemos como mejora la Entropía cruzada (log loss)"
   ]
  },
  {
   "cell_type": "code",
   "execution_count": 11,
   "metadata": {
    "id": "8I_LbyyOD3P0"
   },
   "outputs": [
    {
     "name": "stdout",
     "output_type": "stream",
     "text": [
      "100.00%\r"
     ]
    }
   ],
   "source": [
    "for depth,i in zip(depths,range(len(depths))):\n",
    "    \n",
    "    learner = RandomForestClassifier(n_estimators=100, max_depth=depth)\n",
    "    \n",
    "    learner.fit(X_train, y_train)\n",
    "\n",
    "    res.loc[str(depth), \"train\"] = log_loss(y_train, learner.predict_proba(X_train))\n",
    "    res.loc[str(depth), \"valid\"] = log_loss(y_valid, learner.predict_proba(X_valid))\n",
    "    \n",
    "    print('{:.2%}'.format((i+1)/len(depths)),end='\\r')"
   ]
  },
  {
   "cell_type": "code",
   "execution_count": null,
   "metadata": {
    "colab": {
     "base_uri": "https://localhost:8080/",
     "height": 402
    },
    "id": "eWajw6YSD3P4",
    "outputId": "ee26b167-9fbd-43f2-dd9f-d8fd499ce547"
   },
   "outputs": [],
   "source": [
    "res"
   ]
  },
  {
   "cell_type": "markdown",
   "metadata": {
    "id": "y8GBq2DsGw59"
   },
   "source": [
    "Graficamos el resultado"
   ]
  },
  {
   "cell_type": "code",
   "execution_count": 15,
   "metadata": {
    "colab": {
     "base_uri": "https://localhost:8080/",
     "height": 714
    },
    "id": "K1uooXqMD3P9",
    "outputId": "ac51a0cc-2e37-4b9c-dc38-fd10a6d2cffd"
   },
   "outputs": [
    {
     "data": {
      "image/png": "[encoded data removed]",
      "text/plain": [
       "<Figure size 720x576 with 1 Axes>"
      ]
     },
     "metadata": {
      "needs_background": "light"
     },
     "output_type": "display_data"
    }
   ],
   "source": [
    "ax = res.plot.line(grid=True, fontsize=15, ylim=(0, 0.5), linestyle='-', style='o')"
   ]
  },
  {
   "cell_type": "markdown",
   "metadata": {
    "id": "LwndJumGGyw8"
   },
   "source": [
    "Ahora, calculamos el área bajo la ROC Curve sobre los mismos modelos\n"
   ]
  },
  {
   "cell_type": "code",
   "execution_count": 16,
   "metadata": {
    "id": "j2m9-se1D3QA"
   },
   "outputs": [
    {
     "name": "stdout",
     "output_type": "stream",
     "text": [
      "100.00%\r"
     ]
    }
   ],
   "source": [
    "res = pd.DataFrame([], index=[str(d) for d in depths], columns=[\"train\", \"valid\"])\n",
    "for depth,i in zip(depths,range(len(depths))):\n",
    "    learner = RandomForestClassifier(n_estimators=100, max_depth=depth)\n",
    "    learner.fit(X_train, y_train)\n",
    "    res.loc[str(depth), \"train\"] = roc_auc_score(y_train, learner.predict_proba(X_train)[:, -1])\n",
    "    res.loc[str(depth), \"valid\"] = roc_auc_score(y_valid, learner.predict_proba(X_valid)[:, -1])\n",
    "    print('{:.2%}'.format((i+1)/len(depths)),end='\\r')"
   ]
  },
  {
   "cell_type": "code",
   "execution_count": 17,
   "metadata": {
    "colab": {
     "base_uri": "https://localhost:8080/",
     "height": 402
    },
    "id": "FR6Hlj-lD3QF",
    "outputId": "3f0c8251-744e-4141-c525-704809ca544b"
   },
   "outputs": [
    {
     "data": {
      "text/html": [
       "<div>\n",
       "<style scoped>\n",
       "    .dataframe tbody tr th:only-of-type {\n",
       "        vertical-align: middle;\n",
       "    }\n",
       "\n",
       "    .dataframe tbody tr th {\n",
       "        vertical-align: top;\n",
       "    }\n",
       "\n",
       "    .dataframe thead th {\n",
       "        text-align: right;\n",
       "    }\n",
       "</style>\n",
       "<table border=\"1\" class=\"dataframe\">\n",
       "  <thead>\n",
       "    <tr style=\"text-align: right;\">\n",
       "      <th></th>\n",
       "      <th>train</th>\n",
       "      <th>valid</th>\n",
       "    </tr>\n",
       "  </thead>\n",
       "  <tbody>\n",
       "    <tr>\n",
       "      <th>2</th>\n",
       "      <td>0.86</td>\n",
       "      <td>0.93</td>\n",
       "    </tr>\n",
       "    <tr>\n",
       "      <th>4</th>\n",
       "      <td>0.89</td>\n",
       "      <td>0.94</td>\n",
       "    </tr>\n",
       "    <tr>\n",
       "      <th>6</th>\n",
       "      <td>0.93</td>\n",
       "      <td>0.93</td>\n",
       "    </tr>\n",
       "    <tr>\n",
       "      <th>8</th>\n",
       "      <td>0.97</td>\n",
       "      <td>0.93</td>\n",
       "    </tr>\n",
       "    <tr>\n",
       "      <th>10</th>\n",
       "      <td>0.99</td>\n",
       "      <td>0.90</td>\n",
       "    </tr>\n",
       "    <tr>\n",
       "      <th>...</th>\n",
       "      <td>...</td>\n",
       "      <td>...</td>\n",
       "    </tr>\n",
       "    <tr>\n",
       "      <th>32</th>\n",
       "      <td>1.00</td>\n",
       "      <td>0.89</td>\n",
       "    </tr>\n",
       "    <tr>\n",
       "      <th>34</th>\n",
       "      <td>1.00</td>\n",
       "      <td>0.89</td>\n",
       "    </tr>\n",
       "    <tr>\n",
       "      <th>36</th>\n",
       "      <td>1.00</td>\n",
       "      <td>0.88</td>\n",
       "    </tr>\n",
       "    <tr>\n",
       "      <th>38</th>\n",
       "      <td>1.00</td>\n",
       "      <td>0.89</td>\n",
       "    </tr>\n",
       "    <tr>\n",
       "      <th>None</th>\n",
       "      <td>1.00</td>\n",
       "      <td>0.90</td>\n",
       "    </tr>\n",
       "  </tbody>\n",
       "</table>\n",
       "<p>20 rows × 2 columns</p>\n",
       "</div>"
      ],
      "text/plain": [
       "     train valid\n",
       "2     0.86  0.93\n",
       "4     0.89  0.94\n",
       "6     0.93  0.93\n",
       "8     0.97  0.93\n",
       "10    0.99  0.90\n",
       "...    ...   ...\n",
       "32    1.00  0.89\n",
       "34    1.00  0.89\n",
       "36    1.00  0.88\n",
       "38    1.00  0.89\n",
       "None  1.00  0.90\n",
       "\n",
       "[20 rows x 2 columns]"
      ]
     },
     "execution_count": 17,
     "metadata": {},
     "output_type": "execute_result"
    }
   ],
   "source": [
    "res"
   ]
  },
  {
   "cell_type": "code",
   "execution_count": 18,
   "metadata": {
    "colab": {
     "base_uri": "https://localhost:8080/",
     "height": 708
    },
    "id": "mue3O_70D3QJ",
    "outputId": "556827d4-73a2-45a4-86cf-bf26ed056b4b"
   },
   "outputs": [
    {
     "data": {
      "image/png": "[encoded data removed]",
      "text/plain": [
       "<Figure size 720x576 with 1 Axes>"
      ]
     },
     "metadata": {
      "needs_background": "light"
     },
     "output_type": "display_data"
    }
   ],
   "source": [
    "ax = res.plot.line(grid=True, fontsize=15, linestyle='-', style='o')"
   ]
  },
  {
   "cell_type": "markdown",
   "metadata": {
    "id": "tcOL6kmTHAl3"
   },
   "source": [
    "Veamos como es la supervivencia por deciles"
   ]
  },
  {
   "cell_type": "code",
   "execution_count": null,
   "metadata": {
    "colab": {
     "base_uri": "https://localhost:8080/",
     "height": 254
    },
    "id": "E0qenAwFD3QM",
    "outputId": "5a59d90e-9d02-44b5-b0d3-966b8c03a394"
   },
   "outputs": [],
   "source": [
    "# En Train\n",
    "pd.crosstab(pd.cut(learner.predict_proba(X_train)[:, -1], [0.1, 0.2, 0.3, 0.4, 0.5, 0.6, 0.7, 0.8,1]), y_train)"
   ]
  },
  {
   "cell_type": "code",
   "execution_count": null,
   "metadata": {
    "id": "l_-q_0DHD3QP",
    "outputId": "8ce2e96e-f8aa-4773-eab5-7e79ef1f9175"
   },
   "outputs": [],
   "source": [
    "# En Test\n",
    "pd.crosstab(pd.cut(learner.predict_proba(X_valid)[:, -1], [0.1, 0.2, 0.3, 0.4, 0.5, 0.6, 0.7, 0.8,1]), y_valid)"
   ]
  },
  {
   "cell_type": "markdown",
   "metadata": {
    "id": "lKflRRu3D3Qh"
   },
   "source": [
    "## Validación Cruzada en K conjuntos (K-fold cross validation)\n",
    "\n",
    "Este método consiste en dividir el set de entrenamiento en K subconjuntos disyuntos, para luego iterativamente entrenar el algoritmo en k-1 partes y evaluar en la restante. \n",
    "\n",
    "Scikit Learn también tiene funciones para hacer estas divisiones\n"
   ]
  },
  {
   "cell_type": "markdown",
   "metadata": {
    "id": "3aucd3r6cGOw"
   },
   "source": [
    "![grid_search_cross_validation.png](data:image/png;base64,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)"
   ]
  },
  {
   "cell_type": "code",
   "execution_count": 19,
   "metadata": {},
   "outputs": [],
   "source": [
    "from sklearn.model_selection import cross_val_score"
   ]
  },
  {
   "cell_type": "code",
   "execution_count": 20,
   "metadata": {},
   "outputs": [],
   "source": [
    "X,y=data.drop(\"Survived\", axis=1),data.Survived"
   ]
  },
  {
   "cell_type": "code",
   "execution_count": 21,
   "metadata": {},
   "outputs": [],
   "source": [
    "learner = RandomForestClassifier(n_estimators=100, max_depth=6)\n",
    "\n",
    "scores = cross_val_score(learner, X, y, cv=5)"
   ]
  },
  {
   "cell_type": "code",
   "execution_count": 22,
   "metadata": {},
   "outputs": [
    {
     "data": {
      "text/plain": [
       "array([0.79329609, 0.8258427 , 0.83146067, 0.80337079, 0.84831461])"
      ]
     },
     "execution_count": 22,
     "metadata": {},
     "output_type": "execute_result"
    }
   ],
   "source": [
    "scores"
   ]
  },
  {
   "cell_type": "code",
   "execution_count": 23,
   "metadata": {
    "id": "usLGbwY5D3Qi",
    "outputId": "49e10cff-ca01-49fa-f201-dc21839a86fe"
   },
   "outputs": [
    {
     "name": "stdout",
     "output_type": "stream",
     "text": [
      "0.82 accuracy with a standard deviation of 0.02\n"
     ]
    }
   ],
   "source": [
    "print(\"%0.2f accuracy with a standard deviation of %0.2f\" % (scores.mean(), scores.std()))"
   ]
  },
  {
   "cell_type": "markdown",
   "metadata": {
    "id": "vgr13liAD3Q_"
   },
   "source": [
    "## Combinación de métodos  y determinación de cantidad de iteraciones\n",
    "\n",
    "Ambos métodos se pueden combinar para hacer una estimación mas completa, con el beneficio agregado que, para algunso tipos de algoritmos, se puede facilitar la estimación de la cantidad de iteraciones (ej. boosting o redes neuronales)\n"
   ]
  },
  {
   "cell_type": "code",
   "execution_count": null,
   "metadata": {
    "id": "Nl4Nc5RiD3Q_",
    "outputId": "16b91b8b-7cf3-49da-e46d-484ea672dd38"
   },
   "outputs": [],
   "source": [
    "X_train, X_test, y_train, y_test = model_selection.train_test_split(data.drop(\"Survived\", axis=1), \n",
    "                                                                    data.Survived, test_size=0.2, random_state=0)"
   ]
  },
  {
   "cell_type": "code",
   "execution_count": null,
   "metadata": {
    "id": "4t2CwNBPD3RH"
   },
   "outputs": [],
   "source": [
    "from xgboost import XGBClassifier"
   ]
  },
  {
   "cell_type": "code",
   "execution_count": null,
   "metadata": {
    "id": "ncqhqQ8HD3RN",
    "outputId": "cbe89d0d-259c-4735-a7a0-abb55f3dec75",
    "scrolled": false
   },
   "outputs": [],
   "source": [
    "depths = list(range(2, 42,10))\n",
    "folds=5\n",
    "res = pd.DataFrame([], index=[str(d) for d in depths], columns=[\"fold_\" + str(i) for i in range(folds)] + [\"valid\",\"test\"])\n",
    "for depth,j in zip(depths,range(len(depths))):\n",
    "    learner = RandomForestClassifier(n_estimators=100, max_depth=4)\n",
    "    scores = cross_val_score(learner, X_train, y_train, cv=folds)\n",
    "    for i in range(folds):\n",
    "        columna='fold_{}'.format(i)\n",
    "        res.loc[str(depth)][columna]=scores[i]\n",
    "    res.loc[str(depth)]['valid']=scores.mean()\n",
    "    learner.fit(X_train,y_train)\n",
    "    res.loc[str(depth)]['test']=learner.score(X_test,y_test)\n",
    "    print('{:.2%}'.format((j+1)/len(depths)),end='\\r')\n",
    "res"
   ]
  },
  {
   "cell_type": "markdown",
   "metadata": {
    "id": "63saIAg_5gv9"
   },
   "source": [
    "# Ejercitación\n",
    "\n",
    "\n",
    "\n",
    "1.   Tomar los Datos Procesados de Titanic de la clase pasada\n",
    "2.   Hacer una separación 80/20 en Train y Test\n",
    "3.   Para la parte de Train, armar un esquema de CV con 5 Folds\n",
    "4.   Entrenar un modelo de Random Forest, optimizando un parámetro al elección\n",
    "5.   Evaluar cual es el máximo Area bajo la Curva ROC que se obtiene"
   ]
  },
  {
   "cell_type": "code",
   "execution_count": null,
   "metadata": {
    "id": "1b0kpzjF5hQt"
   },
   "outputs": [],
   "source": []
  }
 ],
 "metadata": {
  "colab": {
   "include_colab_link": true,
   "name": "03_intro_validacion.ipynb",
   "provenance": []
  },
  "kernelspec": {
   "display_name": "Python 3",
   "language": "python",
   "name": "python3"
  },
  "language_info": {
   "codemirror_mode": {
    "name": "ipython",
    "version": 3
   },
   "file_extension": ".py",
   "mimetype": "text/x-python",
   "name": "python",
   "nbconvert_exporter": "python",
   "pygments_lexer": "ipython3",
   "version": "3.7.6"
  }
 },
 "nbformat": 4,
 "nbformat_minor": 1
}
